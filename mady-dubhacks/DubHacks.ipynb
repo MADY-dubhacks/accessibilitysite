{
 "cells": [
  {
   "cell_type": "code",
   "execution_count": 1,
   "metadata": {},
   "outputs": [],
   "source": [
    "import requests\n",
    "from bs4 import BeautifulSoup\n",
    "from urllib.parse import urlparse\n",
    "import re\n",
    "\n",
    "from azure.cognitiveservices.vision.computervision import ComputerVisionClient\n",
    "from azure.cognitiveservices.vision.computervision.models import TextOperationStatusCodes\n",
    "from azure.cognitiveservices.vision.computervision.models import TextRecognitionMode\n",
    "from azure.cognitiveservices.vision.computervision.models import VisualFeatureTypes\n",
    "from msrest.authentication import CognitiveServicesCredentials\n",
    "\n",
    "from sumy.parsers.plaintext import PlaintextParser\n",
    "from sumy.nlp.tokenizers import Tokenizer\n",
    "from sumy.summarizers.lex_rank import LexRankSummarizer\n",
    "\n",
    "import os\n",
    "import sys\n",
    "import time\n",
    "\n",
    "from flask import Flask, render_template, request, redirect, url_for, Response\n",
    "from jinja2 import Environment, FileSystemLoader"
   ]
  },
  {
   "cell_type": "code",
   "execution_count": 2,
   "metadata": {},
   "outputs": [],
   "source": [
    "url = 'https://www.cnn.com/2019/10/11/business/costco-5-dollar-chicken/index.html'"
   ]
  },
  {
   "cell_type": "code",
   "execution_count": 3,
   "metadata": {},
   "outputs": [],
   "source": [
    "def get_soup(url):\n",
    "    res = requests.get(url)\n",
    "    html_page = res.content\n",
    "    soup = BeautifulSoup(html_page, 'html.parser')\n",
    "    return soup"
   ]
  },
  {
   "cell_type": "code",
   "execution_count": 4,
   "metadata": {},
   "outputs": [],
   "source": [
    "def get_logo(soup, url):\n",
    "    slash = url[8:].find('/')\n",
    "    if slash > -1:\n",
    "        head = url[0:url[8:].find('/')+8]\n",
    "    else:\n",
    "        head = url\n",
    "\n",
    "    ext = soup.find(\"link\", rel=\"Shortcut Icon\") or soup.find(\"link\", rel=\"shortcut icon\")\n",
    "    if not ext:\n",
    "         return ''\n",
    "    else:\n",
    "        ext = ext['href']\n",
    "        if ext.find('http') == -1 and ext.find('.com') == -1:\n",
    "            icon = head+ext\n",
    "        else:\n",
    "            icon = ext\n",
    "        if urlparse(icon).netloc:\n",
    "            return icon\n",
    "        else:\n",
    "            return ''"
   ]
  },
  {
   "cell_type": "code",
   "execution_count": 5,
   "metadata": {},
   "outputs": [],
   "source": [
    "def is_cnn(url):\n",
    "    return url.find('cnn.com') > -1"
   ]
  },
  {
   "cell_type": "code",
   "execution_count": 6,
   "metadata": {},
   "outputs": [],
   "source": [
    "def get_body(soup, is_cnn):\n",
    "    body_tags = ['a','div','p','h1','h2','h3','h4']\n",
    "    body_ignore = ['Read More']\n",
    "    \n",
    "    text = soup.find_all(text=True)\n",
    "\n",
    "    title = ''\n",
    "    body = ''\n",
    "    isbody = False\n",
    "    \n",
    "    if is_cnn:\n",
    "        for t in text:\n",
    "            tag = t.parent.name\n",
    "            if tag == 'title':\n",
    "                title = t\n",
    "            elif tag == 'cite':\n",
    "                isbody = True\n",
    "            elif tag == 'body':\n",
    "                break\n",
    "            if isbody and tag in body_tags:\n",
    "                if t not in body_ignore and t.find('http') == -1:\n",
    "                    if prev == 'div':\n",
    "                        body+='\\n\\n'\n",
    "                    body += '{}'.format(t)\n",
    "            prev = tag\n",
    "    if not is_cnn or not body:\n",
    "        for t in text:\n",
    "            tag = t.parent.name\n",
    "            if tag == 'title':\n",
    "                title = t\n",
    "            if tag in body_tags:\n",
    "                t = t.replace('\\n','')\n",
    "                if len(t)>3 and t.find('http') == -1:\n",
    "                    body += '{}'.format(t) + ' '\n",
    "                    if len(t) > 25:\n",
    "                        body += '\\n\\n'\n",
    "    return title, body"
   ]
  },
  {
   "cell_type": "code",
   "execution_count": 7,
   "metadata": {},
   "outputs": [],
   "source": [
    "def get_image(soup, is_cnn):\n",
    "    images = soup.findAll('img')\n",
    "    exists = []\n",
    "    image_urls = []\n",
    "    for image in images:\n",
    "        image_url = image['src']\n",
    "\n",
    "        if urlparse(image_url).netloc:\n",
    "            if (image_url.find('.png') != -1 or \n",
    "               image_url.find('.jpg') != -1 or \n",
    "               image_url.find('.gif') != -1 or \n",
    "               image_url.find('.svg') != -1):\n",
    "                if image_url[0:2] == '//':\n",
    "                    image_url = image_url[2:]\n",
    "                if image_url[0:4] != 'http':\n",
    "                    image_url = 'http://' + image_url\n",
    "                if is_cnn:\n",
    "                    key = re.findall(r'/[0-9]*-',image_url)\n",
    "                    if key and key[0][1:-1] not in exists:\n",
    "                        exists.append(key[0][1:-1])\n",
    "                        image_urls.append(image_url)\n",
    "                else:\n",
    "                    image_urls.append(image_url)\n",
    "\n",
    "    return list(set(image_urls))"
   ]
  },
  {
   "cell_type": "code",
   "execution_count": 8,
   "metadata": {},
   "outputs": [],
   "source": [
    "def generate_captions(images,cv_client):\n",
    "    captions = []\n",
    "    for image in images:\n",
    "        try:\n",
    "            description_results = cv_client.describe_image(image)\n",
    "            if description_results.captions:\n",
    "                captions.append(description_results.captions[0].text)\n",
    "            else:\n",
    "                captions.append('No caption available')\n",
    "        except:\n",
    "            captions.append('No caption available')\n",
    "    return captions"
   ]
  },
  {
   "cell_type": "code",
   "execution_count": null,
   "metadata": {},
   "outputs": [],
   "source": [
    "def simplify_text(text, summarizer):\n",
    "    sentences = len(text)//150\n",
    "    \n",
    "    parser = PlaintextParser.from_string(text,Tokenizer(\"english\"))\n",
    "    summary = summarizer(parser.document, sentences)\n",
    "    return ' '.join([str(x) for x in summary])"
   ]
  },
  {
   "cell_type": "code",
   "execution_count": null,
   "metadata": {},
   "outputs": [],
   "source": [
    "def build_page(url,cv_client,summarizer):\n",
    "    soup = get_soup(url)\n",
    "    iscnn = is_cnn(url)\n",
    "    \n",
    "    title,unsimp_text = get_body(soup,iscnn)\n",
    "    text = simplify_text(unsimp_text,summarizer)\n",
    "    \n",
    "    icon = get_logo(soup,url)\n",
    "    images = get_image(soup,iscnn)\n",
    "    captions = generate_captions(images,cv_client)\n",
    "\n",
    "    return icon,title,text,images,captions"
   ]
  },
  {
   "cell_type": "code",
   "execution_count": null,
   "metadata": {},
   "outputs": [],
   "source": [
    "def get_cv_client():\n",
    "    endpoint = 'https://westcentralus.api.cognitive.microsoft.com'\n",
    "    subscription_key = 'd0fa9162e03a4c7b9cf531e88956b3e3'\n",
    "    cv_client = ComputerVisionClient(endpoint, CognitiveServicesCredentials(subscription_key))\n",
    "    return cv_client"
   ]
  },
  {
   "cell_type": "code",
   "execution_count": null,
   "metadata": {
    "scrolled": true
   },
   "outputs": [
    {
     "name": "stdout",
     "output_type": "stream",
     "text": [
      " * Serving Flask app \"__main__\" (lazy loading)\n",
      " * Environment: production\n",
      "   WARNING: Do not use the development server in a production environment.\n",
      "   Use a production WSGI server instead.\n",
      " * Debug mode: off\n"
     ]
    },
    {
     "name": "stderr",
     "output_type": "stream",
     "text": [
      " * Running on http://127.0.0.1:5000/ (Press CTRL+C to quit)\n",
      "127.0.0.1 - - [13/Oct/2019 06:28:58] \"GET / HTTP/1.1\" 200 -\n",
      "127.0.0.1 - - [13/Oct/2019 06:29:05] \"POST /serve_article HTTP/1.1\" 200 -\n"
     ]
    },
    {
     "name": "stdout",
     "output_type": "stream",
     "text": [
      "http://cdn.cnn.com/cnnnext/dam/assets/180714162334-20180714-trump-putin-russia-intel-docs-exlarge-169.jpg\n",
      "Trump even publicly sided with Putin, who denies interfering, over the US intelligence agencies during their July 2018 summit in Helsinki, Finland. A day later in Washington he said he misspoke in Helsinki and did believe the intelligence community and it was Russia who meddled, but then added, \"It could be other people also. Trump's appointees to lead the FBI, CIA and National Security Agency have all endorsed the report. Here are 10 ways Trump has strayed from his own intelligence agencies on Russian meddling. Putin's involvement in the meddling Who got hacked by the Russians Cyberattacks against the DNC The role of WikiLeaks The historic nature of Russia's actions Russian meddling on social media\n"
     ]
    },
    {
     "name": "stderr",
     "output_type": "stream",
     "text": [
      "127.0.0.1 - - [13/Oct/2019 06:32:18] \"POST /serve_article HTTP/1.1\" 200 -\n"
     ]
    },
    {
     "name": "stdout",
     "output_type": "stream",
     "text": [
      "http://cdn.cnn.com/cnnnext/dam/assets/190104104358-03-costco-kirkland-signature-file-large-169.jpg\n",
      "Markets Tech Media Success Perspectives Videos U.S. International Arabic Español Markets Tech Media Success Perspectives Videos Search U.S. International Arabic Español Markets Premarkets Dow 30 After-Hours Market Movers Fear & Greed World Markets Sector Performance Investing Markets Now Before the Bell Leading Indicator Global Energy Challenge Economy Energy Tech Innovate Gadget Mission: Ahead Upstarts Business Evolved Work Transformed Innovative Cities Unhackable Media Reliable Sources Success Boss Files Fresh Money Invest Ahead Cars Homes Wealth Coach Biz + Leisure Center Piece Perspectives Videos International Switzerland India Davos Reliable Sources Passion to Portfolio On: Germany Accessibility & CC About Us Newsletters World Politics Business Opinion Health Entertainment Tech Style Travel Sports Videos Coupons More JUST WATCHED Replay More Videos ... MUST WATCH  (16 Videos) It's only $4.99. But Costco's rotisserie chicken comes at a huge price Nathaniel Meyersohn CNN Business Updated 2:25 PM ET, Fri October 11, 2019 Chat with us in Facebook Messenger. Find out what's happening in the world as it unfolds. At the back of Costco's stores, past the televisions, jewelry, jumbo-sized ketchup jugs and tubs of mixed nuts, is one of the retailer's most prized items: The rotisserie chicken that costs just $4.99. Cheap Kirkland Signature rotisserie chickens aren't only a quick way for families to get dinner on the table. For Costco, the chickens are a lure, pulling customers into stores and getting them to browse the aisles, adding sometimes hundreds of dollars worth of items to their shopping carts before they pick up that bird. They have their own Facebook page  with nearly 13,000 followers. So Costco is willing to go to extreme lengths to keep its chickens at $4.99. For the past few years, it's been recruiting farmers for this moment: The official opening of a sprawling, $450 million poultry complex of its very own in Nebraska. Costco will control the production process from farm to store, making key decisions down to the grain chickens eat and the type of eggs hatched. Read More This is a big experiment not only for Costco, but the broader industry as well. Retailers will be watching Costco's plan closely. It's one of the largest-scale tests of a store's ability to become its own meat supplier. And there's no guarantee it will work. The company sold more than 90 million rotisserie chickens last year. The 'inexorable rise of chicken' Costco is so determined to keep its rotisserie chickens at $4.99 that it's been willing to lose money selling them in the past. Even as competitors increased their rotisserie chickens to $5.99 in recent years, Costco held its price steady. \"As prices changed dramatically and we saw the competition raising the price, it was a hot price,\" Costco's chief financial officer Richard Galanti said in 2014. Costco was willing to sacrifice \"$30 million, $40 million a year on gross margin by keeping it at $4.99,\" Galanti said the following year. \"That is what we do for a living.\" But in recent years, it has become even more difficult for Costco to keep its rotisserie chicken prices down. Together, those companies control more than 60% of America's $65 billion poultry market, according to Watt Poultry, a meat industry publication. \"A more consolidated industry has more bargaining power against its customers,\" said Timothy Ramey, a longtime poultry industry analyst. Traditional chicken suppliers are also producing fewer birds to be sold as rotisserie chickens. An estimated 15% of chickens today are sold as whole birds, down from around 50% of all poultry in the 1980s, according to the Department of Agriculture. \"Make no mistake: Consumers want cheap Walmart chicken,\" said Ramey. As the number of full-sized birds in production drops, bird weights are going up to keep up with demand. Companies like Tyson Foods can make a higher profit by cutting up and skinning heavier chickens and selling their parts. \"We were having trouble getting the size bird we wanted on a consistent basis,\" said Lyons from Costco. \"We couldn't take a seven-pound bird or an eight-pound bird and make it work. They're too big. They wouldn't even fit on our rotisserie line.\" Bird sizes are growing to feed demand for chicken. Chicken operations in Nebraska That's why Costco is seizing control of its chicken supply chain. Costco believes it can slash costs by bringing production in house, saving up to 35 cents per bird. It has already done the same with hot dogs. Costco sold kosher hot dogs at food courts until 2009, but suppliers started to run low on beef. So it brought production in-house and switched to its own Kirkland Signature-brand hot dogs. Costco now produces 285 million hot dogs at a plant in California. Costco picked Nebraska for the poultry plant because the area had grain, water and labor available. How Kirkland Signature powers Costco's success Although Nebraska is not known for chicken production, corn prices have fallen in recent years, leading to The United States' trade war with China has also taken a toll on farmers \"We had to have farmers who were willing to grow for us, and we found overwhelming support,\" Walt Shafer, a veteran Pilgrim's Pride executive overseeing Costco's operations in Nebraska, said in a recent \"These grain farmers out here want to diversify.\" The retailer is building a poultry complex in Fremont, Nebraska, a farming town near the Iowa border. The nearly 400,000 square-foot plant in Fremont will employ 950 workers. The plant will take 45 weeks to ramp up to full production. Once it's at full speed, the plant will process about 100 million chickens a year, or 40% of Costco's annual chicken needs. Costco will process around two million birds a week in Nebraska to supply to stores on the West Coast. Costco's nearly 400,000 square-foot processing plant in Fremont, Nebraska will eventually process about 100 million chickens a year. Those eggs will then go into hatcheries, and the chicks will be delivered to Nebraska growers. Then they're off to the processing plant. If the Costco plant is successful, other major food retailers will likely make a business case for bringing animal protein needs in-house.\" Walmart is seizing control of But none are as sweeping as Costco's operations in Nebraska. \"Costco's poultry complex is more than just a multi-million dollar experiment from a retailer known for doing things differently,\" said Will Sawyer, an animal protein economist at CoBank, a leading agriculture lender. \"If the Costco plant is successful, other major food retailers will likely make a business case for bringing animal protein needs in-house.\" Contract concerns $4.99 broilers come at a price beyond Costco's bottom line. backlash  among environmentalists and farmers' advocates in the Fremont area. Opponents of the plant in Fremont like Randy Ruppert, a local activist, worry about the environmental impact of the plant and poultry barns, such as water contamination from runoff, ammonia from chicken feces and other health risks. In neighboring Iowa, poultry operations have been linked to \"They are bringing degenerative farming to Nebraska, nothing else,\" said Ruppert, who formed a nonprofit group, Critics packed local town halls to voice concerns and put up anti-Costco signs in the area. The poultry industry has also for offering unfair contracts to chicken farmers. Around 90% of broilers in the United States are raised under contracts with farmers. Under the contract system, farmers build the barns and invest in their upkeep, while larger companies supply them with chicks and feed. Grain farmers in Nebraska, who previously farmed corn and soybeans, are investing $350 million collectively and building barns to raise chickens. Most of the farmers had not previously grown chickens, so Costco is responsible for educating and leading the farmers. Costco claims that it's setting a \"new and improved standard\" for industry contracts. \"Our contract, we think, has one of the best pay rates in the industry,\" Shafer said in the interview. Randy Ruppert, founder of Nebraska Communities United \"We all hoped that Costco was going to present the opportunity to start to build a better system for poultry,\" said Lynn Hayes, an attorney at Farmers' Legal Action Group, a nonprofit group that provides legal services to farmers. But the contracts are a \"letdown,\" she said. \"It's still far from good enough to justify the kind of investments that farmers have to put into it\" because their barns can't be repurposed for other uses if their operations disappoint. Shafer, the executive leading poultry operations in Nebraska for Costco, said \"we have one of the lowest risk poultry contracts available\" because Costco's poultry business keep growing every year. \"I have no doubt that Costco will continue to do the right thing by our growers for the next 15 years and beyond,\" he said. Despite a contentious response and the high costs of pushing into the poultry industry, Costco remains confident that the Nebraska experiment is key to its growth. \"We know that we're going to be in poultry. We see the future,\" said Costco's Lyons. Search Crime + Justice Energy + Environment Extreme Weather Space + Science World Africa Americas Asia Australia China Europe India Middle East United Kingdom Politics Congress SCOTUS Facts First 2020 2019 Elections Business Markets Tech Media Success Perspectives Videos Opinion Political Op-Eds Social Commentary Health Food Fitness Wellness Parenting Vital Signs Entertainment Stars Screen Binge Culture Media Tech Innovate Gadget Mission: Ahead Upstarts Work Transformed Innovative Cities Style Arts Design Fashion Architecture Luxury Autos Video Travel Destinations Food & Drink Play Stay Videos Sports Pro Football College Football Basketball Baseball Soccer Olympics Videos Live TV  Digital Studios CNN Films TV Schedule TV Shows A-Z CNNVR Coupons CNN Underscored Explore Wellness Gadgets Lifestyle CNN Store More Photos Longform Investigations CNN Profiles CNN Leadership CNN Newsletters Work for CNN Most stock quote data provided by BATS. Market indices are shown in real time, except for the DJIA, which is delayed by two minutes. All times are ET. Disclaimer. Morningstar: Copyright 2018 Morningstar, Inc. All Rights Reserved. Factset: FactSet Research Systems Inc.2018. All rights reserved. Chicago Mercantile Association: Certain market data is the property of Chicago Mercantile Exchange Inc. and its licensors. All rights reserved. Dow Jones: The Dow Jones branded   indices are proprietary to and are calculated, distributed and marketed by DJI Opco, a subsidiary of S&P Dow Jones Indices LLC and have been licensed for use to S&P Opco, LLC and CNN. Standard & Poor's and S&P are registered trademarks of Standard & Poor's Financial Services LLC and Dow Jones is a registered trademark of Dow Jones Trademark Holdings LLC. All content of the Dow Jones branded indices Copyright S&P Dow Jones Indices LLC 2018 and/or its affiliates. Terms of Use Privacy Policy Accessibility & CC AdChoices About Us CNN Studio Tours CNN Store Newsletters Transcripts License Footage CNN Newsource Sitemap Turner Broadcasting System, Inc.\n"
     ]
    },
    {
     "name": "stderr",
     "output_type": "stream",
     "text": [
      "127.0.0.1 - - [13/Oct/2019 06:32:20] \"POST /serve_article HTTP/1.1\" 200 -\n"
     ]
    },
    {
     "name": "stdout",
     "output_type": "stream",
     "text": [
      "http://cdn.cnn.com/cnnnext/dam/assets/190104104358-03-costco-kirkland-signature-file-large-169.jpg\n",
      "Markets Tech Media Success Perspectives Videos U.S. International Arabic Español Markets Tech Media Success Perspectives Videos Search U.S. International Arabic Español Markets Premarkets Dow 30 After-Hours Market Movers Fear & Greed World Markets Sector Performance Investing Markets Now Before the Bell Leading Indicator Global Energy Challenge Economy Energy Tech Innovate Gadget Mission: Ahead Upstarts Business Evolved Work Transformed Innovative Cities Unhackable Media Reliable Sources Success Boss Files Fresh Money Invest Ahead Cars Homes Wealth Coach Biz + Leisure Center Piece Perspectives Videos International Switzerland India Davos Reliable Sources Passion to Portfolio On: Germany Accessibility & CC About Us Newsletters World Politics Business Opinion Health Entertainment Tech Style Travel Sports Videos Coupons More JUST WATCHED Replay More Videos ... MUST WATCH  (16 Videos) It's only $4.99. But Costco's rotisserie chicken comes at a huge price Nathaniel Meyersohn CNN Business Updated 2:25 PM ET, Fri October 11, 2019 Chat with us in Facebook Messenger. Find out what's happening in the world as it unfolds. At the back of Costco's stores, past the televisions, jewelry, jumbo-sized ketchup jugs and tubs of mixed nuts, is one of the retailer's most prized items: The rotisserie chicken that costs just $4.99. Cheap Kirkland Signature rotisserie chickens aren't only a quick way for families to get dinner on the table. For Costco, the chickens are a lure, pulling customers into stores and getting them to browse the aisles, adding sometimes hundreds of dollars worth of items to their shopping carts before they pick up that bird. They have their own Facebook page  with nearly 13,000 followers. So Costco is willing to go to extreme lengths to keep its chickens at $4.99. For the past few years, it's been recruiting farmers for this moment: The official opening of a sprawling, $450 million poultry complex of its very own in Nebraska. Costco will control the production process from farm to store, making key decisions down to the grain chickens eat and the type of eggs hatched. Read More This is a big experiment not only for Costco, but the broader industry as well. Retailers will be watching Costco's plan closely. It's one of the largest-scale tests of a store's ability to become its own meat supplier. And there's no guarantee it will work. The company sold more than 90 million rotisserie chickens last year. The 'inexorable rise of chicken' Costco is so determined to keep its rotisserie chickens at $4.99 that it's been willing to lose money selling them in the past. Even as competitors increased their rotisserie chickens to $5.99 in recent years, Costco held its price steady. \"As prices changed dramatically and we saw the competition raising the price, it was a hot price,\" Costco's chief financial officer Richard Galanti said in 2014. Costco was willing to sacrifice \"$30 million, $40 million a year on gross margin by keeping it at $4.99,\" Galanti said the following year. \"That is what we do for a living.\" But in recent years, it has become even more difficult for Costco to keep its rotisserie chicken prices down. Together, those companies control more than 60% of America's $65 billion poultry market, according to Watt Poultry, a meat industry publication. \"A more consolidated industry has more bargaining power against its customers,\" said Timothy Ramey, a longtime poultry industry analyst. Traditional chicken suppliers are also producing fewer birds to be sold as rotisserie chickens. An estimated 15% of chickens today are sold as whole birds, down from around 50% of all poultry in the 1980s, according to the Department of Agriculture. \"Make no mistake: Consumers want cheap Walmart chicken,\" said Ramey. As the number of full-sized birds in production drops, bird weights are going up to keep up with demand. Companies like Tyson Foods can make a higher profit by cutting up and skinning heavier chickens and selling their parts. \"We were having trouble getting the size bird we wanted on a consistent basis,\" said Lyons from Costco. \"We couldn't take a seven-pound bird or an eight-pound bird and make it work. They're too big. They wouldn't even fit on our rotisserie line.\" Bird sizes are growing to feed demand for chicken. Chicken operations in Nebraska That's why Costco is seizing control of its chicken supply chain. Costco believes it can slash costs by bringing production in house, saving up to 35 cents per bird. It has already done the same with hot dogs. Costco sold kosher hot dogs at food courts until 2009, but suppliers started to run low on beef. So it brought production in-house and switched to its own Kirkland Signature-brand hot dogs. Costco now produces 285 million hot dogs at a plant in California. Costco picked Nebraska for the poultry plant because the area had grain, water and labor available. How Kirkland Signature powers Costco's success Although Nebraska is not known for chicken production, corn prices have fallen in recent years, leading to The United States' trade war with China has also taken a toll on farmers \"We had to have farmers who were willing to grow for us, and we found overwhelming support,\" Walt Shafer, a veteran Pilgrim's Pride executive overseeing Costco's operations in Nebraska, said in a recent \"These grain farmers out here want to diversify.\" The retailer is building a poultry complex in Fremont, Nebraska, a farming town near the Iowa border. The nearly 400,000 square-foot plant in Fremont will employ 950 workers. The plant will take 45 weeks to ramp up to full production. Once it's at full speed, the plant will process about 100 million chickens a year, or 40% of Costco's annual chicken needs. Costco will process around two million birds a week in Nebraska to supply to stores on the West Coast. Costco's nearly 400,000 square-foot processing plant in Fremont, Nebraska will eventually process about 100 million chickens a year. Those eggs will then go into hatcheries, and the chicks will be delivered to Nebraska growers. Then they're off to the processing plant. If the Costco plant is successful, other major food retailers will likely make a business case for bringing animal protein needs in-house.\" Walmart is seizing control of But none are as sweeping as Costco's operations in Nebraska. \"Costco's poultry complex is more than just a multi-million dollar experiment from a retailer known for doing things differently,\" said Will Sawyer, an animal protein economist at CoBank, a leading agriculture lender. \"If the Costco plant is successful, other major food retailers will likely make a business case for bringing animal protein needs in-house.\" Contract concerns $4.99 broilers come at a price beyond Costco's bottom line. backlash  among environmentalists and farmers' advocates in the Fremont area. Opponents of the plant in Fremont like Randy Ruppert, a local activist, worry about the environmental impact of the plant and poultry barns, such as water contamination from runoff, ammonia from chicken feces and other health risks. In neighboring Iowa, poultry operations have been linked to \"They are bringing degenerative farming to Nebraska, nothing else,\" said Ruppert, who formed a nonprofit group, Critics packed local town halls to voice concerns and put up anti-Costco signs in the area. The poultry industry has also for offering unfair contracts to chicken farmers. Around 90% of broilers in the United States are raised under contracts with farmers. Under the contract system, farmers build the barns and invest in their upkeep, while larger companies supply them with chicks and feed. Grain farmers in Nebraska, who previously farmed corn and soybeans, are investing $350 million collectively and building barns to raise chickens. Most of the farmers had not previously grown chickens, so Costco is responsible for educating and leading the farmers. Costco claims that it's setting a \"new and improved standard\" for industry contracts. \"Our contract, we think, has one of the best pay rates in the industry,\" Shafer said in the interview. Randy Ruppert, founder of Nebraska Communities United \"We all hoped that Costco was going to present the opportunity to start to build a better system for poultry,\" said Lynn Hayes, an attorney at Farmers' Legal Action Group, a nonprofit group that provides legal services to farmers. But the contracts are a \"letdown,\" she said. \"It's still far from good enough to justify the kind of investments that farmers have to put into it\" because their barns can't be repurposed for other uses if their operations disappoint. Shafer, the executive leading poultry operations in Nebraska for Costco, said \"we have one of the lowest risk poultry contracts available\" because Costco's poultry business keep growing every year. \"I have no doubt that Costco will continue to do the right thing by our growers for the next 15 years and beyond,\" he said. Despite a contentious response and the high costs of pushing into the poultry industry, Costco remains confident that the Nebraska experiment is key to its growth. \"We know that we're going to be in poultry. We see the future,\" said Costco's Lyons. Search Crime + Justice Energy + Environment Extreme Weather Space + Science World Africa Americas Asia Australia China Europe India Middle East United Kingdom Politics Congress SCOTUS Facts First 2020 2019 Elections Business Markets Tech Media Success Perspectives Videos Opinion Political Op-Eds Social Commentary Health Food Fitness Wellness Parenting Vital Signs Entertainment Stars Screen Binge Culture Media Tech Innovate Gadget Mission: Ahead Upstarts Work Transformed Innovative Cities Style Arts Design Fashion Architecture Luxury Autos Video Travel Destinations Food & Drink Play Stay Videos Sports Pro Football College Football Basketball Baseball Soccer Olympics Videos Live TV  Digital Studios CNN Films TV Schedule TV Shows A-Z CNNVR Coupons CNN Underscored Explore Wellness Gadgets Lifestyle CNN Store More Photos Longform Investigations CNN Profiles CNN Leadership CNN Newsletters Work for CNN Most stock quote data provided by BATS. Market indices are shown in real time, except for the DJIA, which is delayed by two minutes. All times are ET. Disclaimer. Morningstar: Copyright 2018 Morningstar, Inc. All Rights Reserved. Factset: FactSet Research Systems Inc.2018. All rights reserved. Chicago Mercantile Association: Certain market data is the property of Chicago Mercantile Exchange Inc. and its licensors. All rights reserved. Dow Jones: The Dow Jones branded   indices are proprietary to and are calculated, distributed and marketed by DJI Opco, a subsidiary of S&P Dow Jones Indices LLC and have been licensed for use to S&P Opco, LLC and CNN. Standard & Poor's and S&P are registered trademarks of Standard & Poor's Financial Services LLC and Dow Jones is a registered trademark of Dow Jones Trademark Holdings LLC. All content of the Dow Jones branded indices Copyright S&P Dow Jones Indices LLC 2018 and/or its affiliates. Terms of Use Privacy Policy Accessibility & CC AdChoices About Us CNN Studio Tours CNN Store Newsletters Transcripts License Footage CNN Newsource Sitemap Turner Broadcasting System, Inc.\n"
     ]
    },
    {
     "name": "stderr",
     "output_type": "stream",
     "text": [
      "127.0.0.1 - - [13/Oct/2019 06:33:38] \"POST /serve_article HTTP/1.1\" 200 -\n"
     ]
    },
    {
     "name": "stdout",
     "output_type": "stream",
     "text": [
      "http://cdn.cnn.com/cnnnext/dam/assets/190104104358-03-costco-kirkland-signature-file-large-169.jpg\n",
      "Markets Tech Media Success Perspectives Videos U.S. International Arabic Español Markets Tech Media Success Perspectives Videos Search U.S. International Arabic Español Markets Premarkets Dow 30 After-Hours Market Movers Fear & Greed World Markets Sector Performance Investing Markets Now Before the Bell Leading Indicator Global Energy Challenge Economy Energy Tech Innovate Gadget Mission: Ahead Upstarts Business Evolved Work Transformed Innovative Cities Unhackable Media Reliable Sources Success Boss Files Fresh Money Invest Ahead Cars Homes Wealth Coach Biz + Leisure Center Piece Perspectives Videos International Switzerland India Davos Reliable Sources Passion to Portfolio On: Germany Accessibility & CC About Us Newsletters World Politics Business Opinion Health Entertainment Tech Style Travel Sports Videos Coupons More JUST WATCHED Replay More Videos ... MUST WATCH  (16 Videos) It's only $4.99. But Costco's rotisserie chicken comes at a huge price Nathaniel Meyersohn CNN Business Updated 2:25 PM ET, Fri October 11, 2019 Chat with us in Facebook Messenger. Find out what's happening in the world as it unfolds. At the back of Costco's stores, past the televisions, jewelry, jumbo-sized ketchup jugs and tubs of mixed nuts, is one of the retailer's most prized items: The rotisserie chicken that costs just $4.99. Cheap Kirkland Signature rotisserie chickens aren't only a quick way for families to get dinner on the table. For Costco, the chickens are a lure, pulling customers into stores and getting them to browse the aisles, adding sometimes hundreds of dollars worth of items to their shopping carts before they pick up that bird. They have their own Facebook page  with nearly 13,000 followers. So Costco is willing to go to extreme lengths to keep its chickens at $4.99. For the past few years, it's been recruiting farmers for this moment: The official opening of a sprawling, $450 million poultry complex of its very own in Nebraska. Costco will control the production process from farm to store, making key decisions down to the grain chickens eat and the type of eggs hatched. Read More This is a big experiment not only for Costco, but the broader industry as well. Retailers will be watching Costco's plan closely. It's one of the largest-scale tests of a store's ability to become its own meat supplier. And there's no guarantee it will work. The company sold more than 90 million rotisserie chickens last year. The 'inexorable rise of chicken' Costco is so determined to keep its rotisserie chickens at $4.99 that it's been willing to lose money selling them in the past. Even as competitors increased their rotisserie chickens to $5.99 in recent years, Costco held its price steady. \"As prices changed dramatically and we saw the competition raising the price, it was a hot price,\" Costco's chief financial officer Richard Galanti said in 2014. Costco was willing to sacrifice \"$30 million, $40 million a year on gross margin by keeping it at $4.99,\" Galanti said the following year. \"That is what we do for a living.\" But in recent years, it has become even more difficult for Costco to keep its rotisserie chicken prices down. Together, those companies control more than 60% of America's $65 billion poultry market, according to Watt Poultry, a meat industry publication. \"A more consolidated industry has more bargaining power against its customers,\" said Timothy Ramey, a longtime poultry industry analyst. Traditional chicken suppliers are also producing fewer birds to be sold as rotisserie chickens. An estimated 15% of chickens today are sold as whole birds, down from around 50% of all poultry in the 1980s, according to the Department of Agriculture. \"Make no mistake: Consumers want cheap Walmart chicken,\" said Ramey. As the number of full-sized birds in production drops, bird weights are going up to keep up with demand. Companies like Tyson Foods can make a higher profit by cutting up and skinning heavier chickens and selling their parts. \"We were having trouble getting the size bird we wanted on a consistent basis,\" said Lyons from Costco. \"We couldn't take a seven-pound bird or an eight-pound bird and make it work. They're too big. They wouldn't even fit on our rotisserie line.\" Bird sizes are growing to feed demand for chicken. Chicken operations in Nebraska That's why Costco is seizing control of its chicken supply chain. Costco believes it can slash costs by bringing production in house, saving up to 35 cents per bird. It has already done the same with hot dogs. Costco sold kosher hot dogs at food courts until 2009, but suppliers started to run low on beef. So it brought production in-house and switched to its own Kirkland Signature-brand hot dogs. Costco now produces 285 million hot dogs at a plant in California. Costco picked Nebraska for the poultry plant because the area had grain, water and labor available. How Kirkland Signature powers Costco's success Although Nebraska is not known for chicken production, corn prices have fallen in recent years, leading to The United States' trade war with China has also taken a toll on farmers \"We had to have farmers who were willing to grow for us, and we found overwhelming support,\" Walt Shafer, a veteran Pilgrim's Pride executive overseeing Costco's operations in Nebraska, said in a recent \"These grain farmers out here want to diversify.\" The retailer is building a poultry complex in Fremont, Nebraska, a farming town near the Iowa border. The nearly 400,000 square-foot plant in Fremont will employ 950 workers. The plant will take 45 weeks to ramp up to full production. Once it's at full speed, the plant will process about 100 million chickens a year, or 40% of Costco's annual chicken needs. Costco will process around two million birds a week in Nebraska to supply to stores on the West Coast. Costco's nearly 400,000 square-foot processing plant in Fremont, Nebraska will eventually process about 100 million chickens a year. Those eggs will then go into hatcheries, and the chicks will be delivered to Nebraska growers. Then they're off to the processing plant. If the Costco plant is successful, other major food retailers will likely make a business case for bringing animal protein needs in-house.\" Walmart is seizing control of But none are as sweeping as Costco's operations in Nebraska. \"Costco's poultry complex is more than just a multi-million dollar experiment from a retailer known for doing things differently,\" said Will Sawyer, an animal protein economist at CoBank, a leading agriculture lender. \"If the Costco plant is successful, other major food retailers will likely make a business case for bringing animal protein needs in-house.\" Contract concerns $4.99 broilers come at a price beyond Costco's bottom line. backlash  among environmentalists and farmers' advocates in the Fremont area. Opponents of the plant in Fremont like Randy Ruppert, a local activist, worry about the environmental impact of the plant and poultry barns, such as water contamination from runoff, ammonia from chicken feces and other health risks. In neighboring Iowa, poultry operations have been linked to \"They are bringing degenerative farming to Nebraska, nothing else,\" said Ruppert, who formed a nonprofit group, Critics packed local town halls to voice concerns and put up anti-Costco signs in the area. The poultry industry has also for offering unfair contracts to chicken farmers. Around 90% of broilers in the United States are raised under contracts with farmers. Under the contract system, farmers build the barns and invest in their upkeep, while larger companies supply them with chicks and feed. Grain farmers in Nebraska, who previously farmed corn and soybeans, are investing $350 million collectively and building barns to raise chickens. Most of the farmers had not previously grown chickens, so Costco is responsible for educating and leading the farmers. Costco claims that it's setting a \"new and improved standard\" for industry contracts. \"Our contract, we think, has one of the best pay rates in the industry,\" Shafer said in the interview. Randy Ruppert, founder of Nebraska Communities United \"We all hoped that Costco was going to present the opportunity to start to build a better system for poultry,\" said Lynn Hayes, an attorney at Farmers' Legal Action Group, a nonprofit group that provides legal services to farmers. But the contracts are a \"letdown,\" she said. \"It's still far from good enough to justify the kind of investments that farmers have to put into it\" because their barns can't be repurposed for other uses if their operations disappoint. Shafer, the executive leading poultry operations in Nebraska for Costco, said \"we have one of the lowest risk poultry contracts available\" because Costco's poultry business keep growing every year. \"I have no doubt that Costco will continue to do the right thing by our growers for the next 15 years and beyond,\" he said. Despite a contentious response and the high costs of pushing into the poultry industry, Costco remains confident that the Nebraska experiment is key to its growth. \"We know that we're going to be in poultry. We see the future,\" said Costco's Lyons. Search Crime + Justice Energy + Environment Extreme Weather Space + Science World Africa Americas Asia Australia China Europe India Middle East United Kingdom Politics Congress SCOTUS Facts First 2020 2019 Elections Business Markets Tech Media Success Perspectives Videos Opinion Political Op-Eds Social Commentary Health Food Fitness Wellness Parenting Vital Signs Entertainment Stars Screen Binge Culture Media Tech Innovate Gadget Mission: Ahead Upstarts Work Transformed Innovative Cities Style Arts Design Fashion Architecture Luxury Autos Video Travel Destinations Food & Drink Play Stay Videos Sports Pro Football College Football Basketball Baseball Soccer Olympics Videos Live TV  Digital Studios CNN Films TV Schedule TV Shows A-Z CNNVR Coupons CNN Underscored Explore Wellness Gadgets Lifestyle CNN Store More Photos Longform Investigations CNN Profiles CNN Leadership CNN Newsletters Work for CNN Most stock quote data provided by BATS. Market indices are shown in real time, except for the DJIA, which is delayed by two minutes. All times are ET. Disclaimer. Morningstar: Copyright 2018 Morningstar, Inc. All Rights Reserved. Factset: FactSet Research Systems Inc.2018. All rights reserved. Chicago Mercantile Association: Certain market data is the property of Chicago Mercantile Exchange Inc. and its licensors. All rights reserved. Dow Jones: The Dow Jones branded   indices are proprietary to and are calculated, distributed and marketed by DJI Opco, a subsidiary of S&P Dow Jones Indices LLC and have been licensed for use to S&P Opco, LLC and CNN. Standard & Poor's and S&P are registered trademarks of Standard & Poor's Financial Services LLC and Dow Jones is a registered trademark of Dow Jones Trademark Holdings LLC. All content of the Dow Jones branded indices Copyright S&P Dow Jones Indices LLC 2018 and/or its affiliates. Terms of Use Privacy Policy Accessibility & CC AdChoices About Us CNN Studio Tours CNN Store Newsletters Transcripts License Footage CNN Newsource Sitemap Turner Broadcasting System, Inc.\n"
     ]
    }
   ],
   "source": [
    "app = Flask(__name__)\n",
    "\n",
    "@app.route('/')\n",
    "def main():\n",
    "    return render_template('landing.html')\n",
    "\n",
    "@app.route('/serve_article', methods=['POST'])\n",
    "def serve_article():\n",
    "    try:\n",
    "        cv_client, summarizer\n",
    "    except NameError:\n",
    "        summarizer = LexRankSummarizer()\n",
    "        cv_client = get_cv_client()\n",
    "    \n",
    "    url = request.form['URL']\n",
    "    icon,title,text,images,captions=build_page(url,cv_client,summarizer)\n",
    "    print(images[0])\n",
    "    print(text)\n",
    "    return render_template('index.html',icon=icon,title=title,text=text,images=images,captions=captions)\n",
    "\n",
    "if __name__ == \"__main__\":\n",
    "    app.jinja_env.cache = {}\n",
    "    app.run(host='127.0.0.1',port=5000)"
   ]
  },
  {
   "cell_type": "code",
   "execution_count": null,
   "metadata": {},
   "outputs": [],
   "source": []
  }
 ],
 "metadata": {
  "kernelspec": {
   "display_name": "Python 3",
   "language": "python",
   "name": "python3"
  },
  "language_info": {
   "codemirror_mode": {
    "name": "ipython",
    "version": 3
   },
   "file_extension": ".py",
   "mimetype": "text/x-python",
   "name": "python",
   "nbconvert_exporter": "python",
   "pygments_lexer": "ipython3",
   "version": "3.7.3"
  }
 },
 "nbformat": 4,
 "nbformat_minor": 2
}
