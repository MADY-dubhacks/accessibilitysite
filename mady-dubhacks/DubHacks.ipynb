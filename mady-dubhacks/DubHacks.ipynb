{
 "cells": [
  {
   "cell_type": "code",
   "execution_count": 1,
   "metadata": {},
   "outputs": [],
   "source": [
    "import requests\n",
    "from bs4 import BeautifulSoup\n",
    "from urllib.parse import urlparse\n",
    "import re\n",
    "\n",
    "from azure.cognitiveservices.vision.computervision import ComputerVisionClient\n",
    "from azure.cognitiveservices.vision.computervision.models import TextOperationStatusCodes\n",
    "from azure.cognitiveservices.vision.computervision.models import TextRecognitionMode\n",
    "from azure.cognitiveservices.vision.computervision.models import VisualFeatureTypes\n",
    "from msrest.authentication import CognitiveServicesCredentials\n",
    "\n",
    "from sumy.parsers.plaintext import PlaintextParser\n",
    "from sumy.nlp.tokenizers import Tokenizer\n",
    "from sumy.summarizers.lex_rank import LexRankSummarizer\n",
    "\n",
    "import os\n",
    "import sys\n",
    "import time\n",
    "\n",
    "from flask import Flask, render_template, request, redirect, url_for, Response\n",
    "from jinja2 import Environment, FileSystemLoader"
   ]
  },
  {
   "cell_type": "code",
   "execution_count": 2,
   "metadata": {},
   "outputs": [],
   "source": [
    "url = 'https://www.cnn.com/2019/10/11/business/costco-5-dollar-chicken/index.html'"
   ]
  },
  {
   "cell_type": "code",
   "execution_count": 3,
   "metadata": {},
   "outputs": [],
   "source": [
    "def get_soup(url):\n",
    "    res = requests.get(url)\n",
    "    html_page = res.content\n",
    "    soup = BeautifulSoup(html_page, 'html.parser')\n",
    "    return soup"
   ]
  },
  {
   "cell_type": "code",
   "execution_count": 4,
   "metadata": {},
   "outputs": [],
   "source": [
    "def get_logo(soup, url):\n",
    "    slash = url[8:].find('/')\n",
    "    if slash > -1:\n",
    "        head = url[0:url[8:].find('/')+8]\n",
    "    else:\n",
    "        head = url\n",
    "\n",
    "    ext = soup.find(\"link\", rel=\"Shortcut Icon\") or soup.find(\"link\", rel=\"shortcut icon\")\n",
    "    if not ext:\n",
    "         return ''\n",
    "    else:\n",
    "        ext = ext['href']\n",
    "        if ext.find('http') == -1 and ext.find('.com') == -1:\n",
    "            icon = head+ext\n",
    "        else:\n",
    "            icon = ext\n",
    "        if urlparse(icon).netloc:\n",
    "            return icon\n",
    "        else:\n",
    "            return ''"
   ]
  },
  {
   "cell_type": "code",
   "execution_count": 5,
   "metadata": {},
   "outputs": [],
   "source": [
    "def is_cnn(url):\n",
    "    return url.find('cnn.com') > -1"
   ]
  },
  {
   "cell_type": "code",
   "execution_count": 6,
   "metadata": {},
   "outputs": [],
   "source": [
    "def get_body(soup, is_cnn):\n",
    "    body_tags = ['a','div','p','h1','h2','h3','h4']\n",
    "    body_ignore = ['Read More']\n",
    "    \n",
    "    text = soup.find_all(text=True)\n",
    "\n",
    "    title = ''\n",
    "    body = ''\n",
    "    isbody = False\n",
    "    \n",
    "    if is_cnn:\n",
    "        for t in text:\n",
    "            tag = t.parent.name\n",
    "            if tag == 'title':\n",
    "                title = t\n",
    "            elif tag == 'cite':\n",
    "                isbody = True\n",
    "            elif tag == 'body':\n",
    "                break\n",
    "            if isbody and tag in body_tags:\n",
    "                if t not in body_ignore and t.find('http') == -1:\n",
    "                    if prev == 'div':\n",
    "                        body+='\\n\\n'\n",
    "                    body += '{}'.format(t)\n",
    "            prev = tag\n",
    "    if not is_cnn or not body:\n",
    "        for t in text:\n",
    "            tag = t.parent.name\n",
    "            if tag == 'title':\n",
    "                title = t\n",
    "            if tag in body_tags:\n",
    "                t = t.replace('\\n','')\n",
    "                if len(t)>3 and t.find('http') == -1:\n",
    "                    body += '{}'.format(t) + ' '\n",
    "                    if len(t) > 25:\n",
    "                        body += '\\n\\n'\n",
    "    return title, body"
   ]
  },
  {
   "cell_type": "code",
   "execution_count": 7,
   "metadata": {},
   "outputs": [],
   "source": [
    "def get_image(soup, is_cnn):\n",
    "    images = soup.findAll('img')\n",
    "    exists = []\n",
    "    image_urls = []\n",
    "    for image in images:\n",
    "        image_url = image['src']\n",
    "\n",
    "        if urlparse(image_url).netloc:\n",
    "            if (image_url.find('.png') != -1 or \n",
    "               image_url.find('.jpg') != -1 or \n",
    "               image_url.find('.gif') != -1 or \n",
    "               image_url.find('.svg') != -1):\n",
    "                if image_url[0:2] == '//':\n",
    "                    image_url = image_url[2:]\n",
    "                if image_url[0:4] != 'http':\n",
    "                    image_url = 'http://' + image_url\n",
    "                if is_cnn:\n",
    "                    key = re.findall(r'/[0-9]*-',image_url)\n",
    "                    if key and key[0][1:-1] not in exists:\n",
    "                        exists.append(key[0][1:-1])\n",
    "                        image_urls.append(image_url)\n",
    "                else:\n",
    "                    image_urls.append(image_url)\n",
    "\n",
    "    return list(set(image_urls))"
   ]
  },
  {
   "cell_type": "code",
   "execution_count": 8,
   "metadata": {},
   "outputs": [],
   "source": [
    "def generate_captions(images,cv_client):\n",
    "    captions = []\n",
    "    for image in images:\n",
    "        try:\n",
    "            description_results = cv_client.describe_image(image)\n",
    "            if description_results.captions:\n",
    "                captions.append(description_results.captions[0].text)\n",
    "            else:\n",
    "                captions.append('No caption available')\n",
    "        except:\n",
    "            captions.append('No caption available')\n",
    "    return captions"
   ]
  },
  {
   "cell_type": "code",
   "execution_count": null,
   "metadata": {},
   "outputs": [],
   "source": [
    "def simplify_text(text, summarizer):\n",
    "    sentences = len(text)//150\n",
    "    \n",
    "    parser = PlaintextParser.from_string(text,Tokenizer(\"english\"))\n",
    "    summary = summarizer(parser.document, sentences)\n",
    "    return ' '.join([str(x) for x in summary])"
   ]
  },
  {
   "cell_type": "code",
   "execution_count": null,
   "metadata": {},
   "outputs": [],
   "source": [
    "def build_page(url,cv_client,summarizer):\n",
    "    soup = get_soup(url)\n",
    "    iscnn = is_cnn(url)\n",
    "    \n",
    "    title,unsimp_text = get_body(soup,iscnn)\n",
    "    text = simplify_text(unsimp_text,summarizer)\n",
    "    \n",
    "    icon = get_logo(soup,url)\n",
    "    images = get_image(soup,iscnn)\n",
    "    captions = generate_captions(images,cv_client)\n",
    "\n",
    "    return icon,title,text,images,captions"
   ]
  },
  {
   "cell_type": "code",
   "execution_count": null,
   "metadata": {},
   "outputs": [],
   "source": [
    "def get_cv_client():\n",
    "    endpoint = 'https://westcentralus.api.cognitive.microsoft.com'\n",
    "    subscription_key = 'd0fa9162e03a4c7b9cf531e88956b3e3'\n",
    "    cv_client = ComputerVisionClient(endpoint, CognitiveServicesCredentials(subscription_key))\n",
    "    return cv_client"
   ]
  },
  {
   "cell_type": "code",
   "execution_count": null,
   "metadata": {
    "scrolled": true
   },
   "outputs": [
    {
     "name": "stdout",
     "output_type": "stream",
     "text": [
      " * Serving Flask app \"__main__\" (lazy loading)\n",
      " * Environment: production\n",
      "   WARNING: Do not use the development server in a production environment.\n",
      "   Use a production WSGI server instead.\n",
      " * Debug mode: off\n"
     ]
    },
    {
     "name": "stderr",
     "output_type": "stream",
     "text": [
      " * Running on http://127.0.0.1:5000/ (Press CTRL+C to quit)\n",
      "127.0.0.1 - - [13/Oct/2019 05:34:28] \"GET / HTTP/1.1\" 200 -\n",
      "127.0.0.1 - - [13/Oct/2019 05:34:28] \"GET /static/style.css HTTP/1.1\" 200 -\n",
      "127.0.0.1 - - [13/Oct/2019 05:34:28] \"GET /static/logo.png HTTP/1.1\" 200 -\n",
      "127.0.0.1 - - [13/Oct/2019 05:34:28] \"GET /static/logo_d.png HTTP/1.1\" 200 -\n",
      "127.0.0.1 - - [13/Oct/2019 05:34:29] \"GET /static/feature.js HTTP/1.1\" 200 -\n",
      "127.0.0.1 - - [13/Oct/2019 05:34:29] \"GET /static/carousel.js HTTP/1.1\" 200 -\n",
      "127.0.0.1 - - [13/Oct/2019 05:35:19] \"GET / HTTP/1.1\" 200 -\n",
      "127.0.0.1 - - [13/Oct/2019 05:35:26] \"POST /serve_article HTTP/1.1\" 200 -\n"
     ]
    },
    {
     "name": "stdout",
     "output_type": "stream",
     "text": [
      "http://cdn.cnn.com/cnnnext/dam/assets/180714181455-sat-bkgd-intel-report-usa-russia-large-43.jpg\n",
      "Trump even publicly sided with Putin, who denies interfering, over the US intelligence agencies during their July 2018 summit in Helsinki, Finland. A day later in Washington he said he misspoke in Helsinki and did believe the intelligence community and it was Russia who meddled, but then added, \"It could be other people also. Trump's appointees to lead the FBI, CIA and National Security Agency have all endorsed the report. Here are 10 ways Trump has strayed from his own intelligence agencies on Russian meddling. Putin's involvement in the meddling Who got hacked by the Russians Cyberattacks against the DNC The role of WikiLeaks The historic nature of Russia's actions Russian meddling on social media\n"
     ]
    },
    {
     "name": "stderr",
     "output_type": "stream",
     "text": [
      "127.0.0.1 - - [13/Oct/2019 05:37:35] \"POST /serve_article HTTP/1.1\" 200 -\n"
     ]
    },
    {
     "name": "stdout",
     "output_type": "stream",
     "text": [
      "http://cdn.cnn.com/cnnnext/dam/assets/180714181455-sat-bkgd-intel-report-usa-russia-large-43.jpg\n",
      "Trump even publicly sided with Putin, who denies interfering, over the US intelligence agencies during their July 2018 summit in Helsinki, Finland. A day later in Washington he said he misspoke in Helsinki and did believe the intelligence community and it was Russia who meddled, but then added, \"It could be other people also. Trump's appointees to lead the FBI, CIA and National Security Agency have all endorsed the report. Here are 10 ways Trump has strayed from his own intelligence agencies on Russian meddling. Putin's involvement in the meddling Who got hacked by the Russians Cyberattacks against the DNC The role of WikiLeaks The historic nature of Russia's actions Russian meddling on social media\n"
     ]
    },
    {
     "name": "stderr",
     "output_type": "stream",
     "text": [
      "127.0.0.1 - - [13/Oct/2019 05:40:55] \"POST /serve_article HTTP/1.1\" 200 -\n"
     ]
    },
    {
     "name": "stdout",
     "output_type": "stream",
     "text": [
      "http://cdn.cnn.com/cnnnext/dam/assets/180714181455-sat-bkgd-intel-report-usa-russia-large-43.jpg\n",
      "Trump even publicly sided with Putin, who denies interfering, over the US intelligence agencies during their July 2018 summit in Helsinki, Finland. A day later in Washington he said he misspoke in Helsinki and did believe the intelligence community and it was Russia who meddled, but then added, \"It could be other people also. Trump's appointees to lead the FBI, CIA and National Security Agency have all endorsed the report. Here are 10 ways Trump has strayed from his own intelligence agencies on Russian meddling. Putin's involvement in the meddling Who got hacked by the Russians Cyberattacks against the DNC The role of WikiLeaks The historic nature of Russia's actions Russian meddling on social media\n"
     ]
    },
    {
     "name": "stderr",
     "output_type": "stream",
     "text": [
      "127.0.0.1 - - [13/Oct/2019 05:40:56] \"POST /serve_article HTTP/1.1\" 200 -\n",
      "127.0.0.1 - - [13/Oct/2019 05:40:56] \"POST /serve_article HTTP/1.1\" 200 -\n"
     ]
    },
    {
     "name": "stdout",
     "output_type": "stream",
     "text": [
      "http://cdn.cnn.com/cnnnext/dam/assets/180714181455-sat-bkgd-intel-report-usa-russia-large-43.jpg\n",
      "Trump even publicly sided with Putin, who denies interfering, over the US intelligence agencies during their July 2018 summit in Helsinki, Finland. A day later in Washington he said he misspoke in Helsinki and did believe the intelligence community and it was Russia who meddled, but then added, \"It could be other people also. Trump's appointees to lead the FBI, CIA and National Security Agency have all endorsed the report. Here are 10 ways Trump has strayed from his own intelligence agencies on Russian meddling. Putin's involvement in the meddling Who got hacked by the Russians Cyberattacks against the DNC The role of WikiLeaks The historic nature of Russia's actions Russian meddling on social media\n",
      "http://cdn.cnn.com/cnnnext/dam/assets/180714181455-sat-bkgd-intel-report-usa-russia-large-43.jpg\n",
      "Trump even publicly sided with Putin, who denies interfering, over the US intelligence agencies during their July 2018 summit in Helsinki, Finland. A day later in Washington he said he misspoke in Helsinki and did believe the intelligence community and it was Russia who meddled, but then added, \"It could be other people also. Trump's appointees to lead the FBI, CIA and National Security Agency have all endorsed the report. Here are 10 ways Trump has strayed from his own intelligence agencies on Russian meddling. Putin's involvement in the meddling Who got hacked by the Russians Cyberattacks against the DNC The role of WikiLeaks The historic nature of Russia's actions Russian meddling on social media\n"
     ]
    }
   ],
   "source": [
    "app = Flask(__name__)\n",
    "\n",
    "@app.route('/')\n",
    "def main():\n",
    "    return render_template('landing.html')\n",
    "\n",
    "@app.route('/serve_article', methods=['POST'])\n",
    "def serve_article():\n",
    "    try:\n",
    "        cv_client, summarizer\n",
    "    except NameError:\n",
    "        summarizer = LexRankSummarizer()\n",
    "        cv_client = get_cv_client()\n",
    "    \n",
    "    url = request.form['URL']\n",
    "    icon,title,text,images,captions=build_page(url,cv_client,summarizer)\n",
    "    print(images[0])\n",
    "    print(text)\n",
    "    return render_template('index.html',icon=icon,title=title,text=text,images=images,captions=captions)\n",
    "\n",
    "if __name__ == \"__main__\":\n",
    "    app.jinja_env.cache = {}\n",
    "    app.run(host='127.0.0.1',port=5000)"
   ]
  },
  {
   "cell_type": "code",
   "execution_count": null,
   "metadata": {},
   "outputs": [],
   "source": []
  }
 ],
 "metadata": {
  "kernelspec": {
   "display_name": "Python 3",
   "language": "python",
   "name": "python3"
  },
  "language_info": {
   "codemirror_mode": {
    "name": "ipython",
    "version": 3
   },
   "file_extension": ".py",
   "mimetype": "text/x-python",
   "name": "python",
   "nbconvert_exporter": "python",
   "pygments_lexer": "ipython3",
   "version": "3.7.3"
  }
 },
 "nbformat": 4,
 "nbformat_minor": 2
}
